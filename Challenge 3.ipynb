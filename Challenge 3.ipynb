{
 "cells": [
  {
   "cell_type": "code",
   "execution_count": 26,
   "metadata": {},
   "outputs": [],
   "source": [
    "import numpy as np\n",
    "import os\n",
    "import sys\n",
    "import time\n",
    "import math\n",
    "import matplotlib.pyplot as plt\n",
    "from PIL import Image, ImageOps\n",
    "from skimage import exposure\n",
    "from sklearn.model_selection import train_test_split\n",
    "\n",
    "%matplotlib inline"
   ]
  },
  {
   "cell_type": "code",
   "execution_count": 3,
   "metadata": {},
   "outputs": [
    {
     "name": "stderr",
     "output_type": "stream",
     "text": [
      "/anaconda/envs/py35/lib/python3.5/site-packages/skimage/util/dtype.py:122: UserWarning: Possible precision loss when converting from float64 to uint16\n",
      "  .format(dtypeobj_in, dtypeobj_out))\n"
     ]
    },
    {
     "data": {
      "image/png": "[encoded data removed]",
      "text/plain": [
       "<matplotlib.figure.Figure at 0x7f796e3d7208>"
      ]
     },
     "metadata": {},
     "output_type": "display_data"
    }
   ],
   "source": [
    "def pad_image(x): #image\n",
    "    x.shape\n",
    "    idealSize = 2**( math.floor(np.log2(max(x.shape[0], x.shape[1])))+1 )\n",
    "\n",
    "    pad = x.shape[0] - x.shape[1]\n",
    "\n",
    "    padX = idealSize - x.shape[0]\n",
    "    padY = idealSize - x.shape[1]\n",
    "\n",
    "    padx_before = padX//2\n",
    "    padx_after=  idealSize - padx_before - x.shape[0]\n",
    "\n",
    "    pady_before = padY//2\n",
    "    pady_after = idealSize - pady_before - x.shape[1]\n",
    "\n",
    "    newArr = np.pad(x, ((padx_before,padx_after),(pady_before,pady_after),(0,0)),mode='constant', constant_values=255)\n",
    "\n",
    "    img = Image.fromarray(newArr, 'RGB')\n",
    "    img2 = img.resize((128,128), Image.ANTIALIAS)\n",
    "    plt.imshow(img2)\n",
    "    return img2\n",
    "\n",
    "def contrast_stretching(img): #img as image\n",
    "    # Adaptive Equalization\n",
    "    img_adapteq = exposure.equalize_adapthist(np.asarray(img), clip_limit=0.03)\n",
    "    return img_adapteq\n",
    "\n",
    "def preprocess_img(img):\n",
    "    img1 = pad_image(img)\n",
    "    img2 = contrast_stretching(img1)\n",
    "    return img2\n",
    "\n",
    "\n",
    "features = []\n",
    "labels = []\n",
    "\n",
    "for path, subdirs, files in os.walk('gear_images/'):\n",
    "    for name in files:\n",
    "        label = path.split('/')[1]\n",
    "        full_path = os.path.join(path, name)\n",
    "        img = plt.imread(full_path)\n",
    "        preprocessed_image = preprocess_img(img).flatten()\n",
    "        \n",
    "        features.append(preprocessed_image)\n",
    "        labels.append(label)"
   ]
  },
  {
   "cell_type": "code",
   "execution_count": 85,
   "metadata": {},
   "outputs": [],
   "source": [
    "X = np.asarray(features)\n",
    "\n",
    "# unique_labels = list(set(labels))\n",
    "# y = [unique_labels.index(a) for a in labels]\n",
    "# y = np.asarray(y)\n",
    "from sklearn.preprocessing import LabelEncoder\n",
    "\n",
    "y = LabelEncoder().fit_transform(y=labels)\n",
    "\n",
    "X_train, X_test, y_train, y_test = train_test_split(X, y,\n",
    "                                                    test_size=0.30,\n",
    "                                                    random_state=46)"
   ]
  },
  {
   "cell_type": "code",
   "execution_count": 86,
   "metadata": {},
   "outputs": [
    {
     "data": {
      "text/plain": [
       "0.9042386185243328"
      ]
     },
     "execution_count": 86,
     "metadata": {},
     "output_type": "execute_result"
    }
   ],
   "source": [
    "from sklearn.neighbors import KNeighborsClassifier\n",
    "\n",
    "model = KNeighborsClassifier(n_neighbors=2)\n",
    "model.fit(X_train, y_train)\n",
    "model.score(X_test, y_test)"
   ]
  },
  {
   "cell_type": "code",
   "execution_count": 48,
   "metadata": {},
   "outputs": [
    {
     "name": "stdout",
     "output_type": "stream",
     "text": [
      "--2018-07-16 22:42:04--  https://shop.epictv.com/sites/default/files/ae42ad29e70ba8ce6b67d3bdb6ab5c6e.jpeg\n",
      "Resolving shop.epictv.com (shop.epictv.com)... 46.137.89.104, 46.137.182.250\n",
      "Connecting to shop.epictv.com (shop.epictv.com)|46.137.89.104|:443... connected.\n",
      "HTTP request sent, awaiting response... 200 OK\n",
      "Length: 171537 (168K) [image/jpeg]\n",
      "Saving to: ‘ae42ad29e70ba8ce6b67d3bdb6ab5c6e.jpeg’\n",
      "\n",
      "ae42ad29e70ba8ce6b6 100%[===================>] 167.52K   656KB/s    in 0.3s    \n",
      "\n",
      "2018-07-16 22:42:05 (656 KB/s) - ‘ae42ad29e70ba8ce6b67d3bdb6ab5c6e.jpeg’ saved [171537/171537]\n",
      "\n"
     ]
    }
   ],
   "source": [
    "!wget https://shop.epictv.com/sites/default/files/ae42ad29e70ba8ce6b67d3bdb6ab5c6e.jpeg"
   ]
  },
  {
   "cell_type": "code",
   "execution_count": 98,
   "metadata": {},
   "outputs": [
    {
     "name": "stderr",
     "output_type": "stream",
     "text": [
      "/anaconda/envs/py35/lib/python3.5/site-packages/skimage/util/dtype.py:122: UserWarning: Possible precision loss when converting from float64 to uint16\n",
      "  .format(dtypeobj_in, dtypeobj_out))\n"
     ]
    },
    {
     "data": {
      "text/plain": [
       "array([7])"
      ]
     },
     "execution_count": 98,
     "metadata": {},
     "output_type": "execute_result"
    },
    {
     "data": {
      "image/png": "[encoded data removed]",
      "text/plain": [
       "<matplotlib.figure.Figure at 0x7f796db6b358>"
      ]
     },
     "metadata": {},
     "output_type": "display_data"
    }
   ],
   "source": [
    "raw_image = plt.imread('ae42ad29e70ba8ce6b67d3bdb6ab5c6e.jpeg')\n",
    "processed_image = preprocess_img(raw_image).flatten()\n",
    "prediction = model.predict(processed_image.reshape(1, -1))\n",
    "\n",
    "# unique_labels[11]\n",
    "prediction"
   ]
  },
  {
   "cell_type": "code",
   "execution_count": 99,
   "metadata": {},
   "outputs": [
    {
     "name": "stderr",
     "output_type": "stream",
     "text": [
      "/anaconda/envs/py35/lib/python3.5/site-packages/sklearn/preprocessing/label.py:151: DeprecationWarning: The truth value of an empty array is ambiguous. Returning False, but in future this will result in an error. Use `array.size > 0` to check that an array is not empty.\n",
      "  if diff:\n"
     ]
    },
    {
     "data": {
      "text/plain": [
       "'helmets'"
      ]
     },
     "execution_count": 99,
     "metadata": {},
     "output_type": "execute_result"
    }
   ],
   "source": [
    "encoder = LabelEncoder().fit(y=labels)\n",
    "encoder.inverse_transform(7)"
   ]
  },
  {
   "cell_type": "code",
   "execution_count": 102,
   "metadata": {},
   "outputs": [
    {
     "data": {
      "text/plain": [
       "array([[ 27,   0,   0,   0,   0,   0,   0,   0,   0,   0,   0,   0],\n",
       "       [  0,  32,   0,   0,   1,   0,   0,   0,   0,   0,   0,   0],\n",
       "       [  4,   0,  82,   0,   0,   0,   0,   0,   0,   0,   0,   0],\n",
       "       [  4,   0,   1,  28,   0,   0,   0,   0,   0,   0,   1,   2],\n",
       "       [  0,   0,   0,   0,  71,   0,   0,   0,   0,   0,   1,   0],\n",
       "       [  0,   0,   0,   0,   0, 143,   0,   0,   1,   0,   0,   0],\n",
       "       [  1,   0,   0,   0,   0,   2,  39,   0,   0,   0,   0,   2],\n",
       "       [  0,   0,   2,   0,   0,   2,   0,  30,   0,   0,   0,   0],\n",
       "       [  0,   0,   0,   0,   0,  25,   0,   0,  39,   0,   0,   0],\n",
       "       [  0,   0,   0,   0,   0,   7,   0,   0,   0,   4,   1,   0],\n",
       "       [  0,   0,   0,   0,   0,   4,   0,   0,   0,   0,  54,   0],\n",
       "       [  0,   0,   0,   0,   0,   0,   0,   0,   0,   0,   0,  27]])"
      ]
     },
     "execution_count": 102,
     "metadata": {},
     "output_type": "execute_result"
    }
   ],
   "source": [
    "from sklearn.metrics import confusion_matrix\n",
    "\n",
    "y_pred = model.predict(X_test)\n",
    "confusion_matrix(y_test, y_pred)"
   ]
  },
  {
   "cell_type": "code",
   "execution_count": null,
   "metadata": {},
   "outputs": [],
   "source": [
    "labels_unique = [encoder.inverse_transform(i) for i in range(11)]\n",
    "labels_unique"
   ]
  },
  {
   "cell_type": "code",
   "execution_count": 5,
   "metadata": {},
   "outputs": [
    {
     "name": "stdout",
     "output_type": "stream",
     "text": [
      "3333\n"
     ]
    }
   ],
   "source": [
    "a=1/3\n",
    "a_str='{0:.4}'.format(a)\n",
    "print(a_str[2:])"
   ]
  }
 ],
 "metadata": {
  "kernelspec": {
   "display_name": "Python 3",
   "language": "python",
   "name": "python3"
  },
  "language_info": {
   "codemirror_mode": {
    "name": "ipython",
    "version": 3
   },
   "file_extension": ".py",
   "mimetype": "text/x-python",
   "name": "python",
   "nbconvert_exporter": "python",
   "pygments_lexer": "ipython3",
   "version": "3.5.4"
  }
 },
 "nbformat": 4,
 "nbformat_minor": 2
}
