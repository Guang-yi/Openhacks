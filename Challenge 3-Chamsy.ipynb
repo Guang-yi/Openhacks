{
 "cells": [
  {
   "cell_type": "code",
   "execution_count": 1,
   "metadata": {},
   "outputs": [],
   "source": [
    "import numpy as np\n",
    "import os\n",
    "import sys\n",
    "import time\n",
    "import math\n",
    "import matplotlib.pyplot as plt\n",
    "from PIL import Image, ImageOps\n",
    "from skimage import exposure\n",
    "from sklearn.model_selection import train_test_split\n",
    "\n",
    "%matplotlib inline"
   ]
  },
  {
   "cell_type": "code",
   "execution_count": 3,
   "metadata": {},
   "outputs": [
    {
     "name": "stderr",
     "output_type": "stream",
     "text": [
      "/anaconda/envs/py35/lib/python3.5/site-packages/skimage/util/dtype.py:122: UserWarning: Possible precision loss when converting from float64 to uint16\n",
      "  .format(dtypeobj_in, dtypeobj_out))\n"
     ]
    },
    {
     "data": {
      "image/png": "[encoded data removed]",
      "text/plain": [
       "<matplotlib.figure.Figure at 0x7f796e3d7208>"
      ]
     },
     "metadata": {},
     "output_type": "display_data"
    }
   ],
   "source": [
    "def pad_image(x): #image\n",
    "    x.shape\n",
    "    idealSize = 2**( math.floor(np.log2(max(x.shape[0], x.shape[1])))+1 )\n",
    "\n",
    "    pad = x.shape[0] - x.shape[1]\n",
    "\n",
    "    padX = idealSize - x.shape[0]\n",
    "    padY = idealSize - x.shape[1]\n",
    "\n",
    "    padx_before = padX//2\n",
    "    padx_after=  idealSize - padx_before - x.shape[0]\n",
    "\n",
    "    pady_before = padY//2\n",
    "    pady_after = idealSize - pady_before - x.shape[1]\n",
    "\n",
    "    newArr = np.pad(x, ((padx_before,padx_after),(pady_before,pady_after),(0,0)),mode='constant', constant_values=255)\n",
    "\n",
    "    img = Image.fromarray(newArr, 'RGB')\n",
    "    img2 = img.resize((128,128), Image.ANTIALIAS)\n",
    "    plt.imshow(img2)\n",
    "    return img2\n",
    "\n",
    "def contrast_stretching(img): #img as image\n",
    "    # Adaptive Equalization\n",
    "    img_adapteq = exposure.equalize_adapthist(np.asarray(img), clip_limit=0.03)\n",
    "    return img_adapteq\n",
    "\n",
    "def preprocess_img(img):\n",
    "    img1 = pad_image(img)\n",
    "    img2 = contrast_stretching(img1)\n",
    "    return img2\n",
    "\n",
    "\n",
    "features = []\n",
    "labels = []\n",
    "\n",
    "for path, subdirs, files in os.walk('gear_images/'):\n",
    "    for name in files:\n",
    "        label = path.split('/')[1]\n",
    "        full_path = os.path.join(path, name)\n",
    "        img = plt.imread(full_path)\n",
    "        preprocessed_image = preprocess_img(img).flatten()\n",
    "        \n",
    "        features.append(preprocessed_image)\n",
    "        labels.append(label)"
   ]
  },
  {
   "cell_type": "code",
   "execution_count": 4,
   "metadata": {},
   "outputs": [
    {
     "name": "stdout",
     "output_type": "stream",
     "text": [
      "/bin/sh: pip: command not found\r\n"
     ]
    }
   ],
   "source": [
    "# ADD CODE: Install the Custom Vision SDK\n",
    "!pip install azure-cognitiveservices-vision-customvision"
   ]
  },
  {
   "cell_type": "code",
   "execution_count": null,
   "metadata": {},
   "outputs": [],
   "source": [
    "# ADD CODE: Assign your service keys to variables\n",
    "training_key = ''\n",
    "prediction_key = ''"
   ]
  },
  {
   "cell_type": "code",
   "execution_count": null,
   "metadata": {},
   "outputs": [],
   "source": [
    "print (\"Adding training images...\")\n",
    "\n",
    "hardshell_dir = \"gear_images/hardshell_jackets\"\n",
    "\n",
    "for image in os.listdir(os.fsencode(\"gear_images/hardshell_jackets\")):\n",
    "    with open(hardshell_dir + \"/\" + os.fsdecode(image), mode=\"rb\") as img_data: \n",
    "        trainer.create_images_from_data(project.id, img_data, [ hardshell_jacket_tag.id ])\n",
    "\n",
    "        \n",
    "insulated_dir = \"gear_images/insulated_jackets\"\n",
    "\n",
    "for image in os.listdir(os.fsencode(\"gear_images/insulated_jackets\")):\n",
    "    with open(insulated_dir + \"/\" + os.fsdecode(image), mode=\"rb\") as img_data: \n",
    "        trainer.create_images_from_data(project.id, img_data, [ insulated_jacket_tag.id ])\n",
    "\n",
    "print (\"Finished adding training images.\")   "
   ]
  },
  {
   "cell_type": "code",
   "execution_count": null,
   "metadata": {},
   "outputs": [],
   "source": [
    "# ADD CODE: Train the images\n",
    "\n",
    "print (\"Training...\")\n",
    "iteration = trainer.train_project(project.id)\n",
    "while (iteration.status != \"Completed\"):\n",
    "    iteration = trainer.get_iteration(project.id, iteration.id)\n",
    "    print (\"Training status: \" + iteration.status)\n",
    "    time.sleep(1)\n",
    "\n",
    "# The iteration is now trained. Make it the default project endpoint\n",
    "trainer.update_iteration(project.id, iteration.id, is_default=True)\n",
    "print (\"Done!\")"
   ]
  },
  {
   "cell_type": "code",
   "execution_count": null,
   "metadata": {},
   "outputs": [],
   "source": [
    "# ADD CODE: Import the prediction endpoint\n",
    "from azure.cognitiveservices.vision.customvision.prediction import prediction_endpoint\n",
    "from azure.cognitiveservices.vision.customvision.prediction.prediction_endpoint import models\n",
    "\n",
    "# ADD CODE: Create an instance of the prediction endpoint using your prediction key\n",
    "predictor = prediction_endpoint.PredictionEndpoint(prediction_key)"
   ]
  }
 ],
 "metadata": {
  "kernelspec": {
   "display_name": "Python 3",
   "language": "python",
   "name": "python3"
  },
  "language_info": {
   "codemirror_mode": {
    "name": "ipython",
    "version": 3
   },
   "file_extension": ".py",
   "mimetype": "text/x-python",
   "name": "python",
   "nbconvert_exporter": "python",
   "pygments_lexer": "ipython3",
   "version": "3.5.4"
  }
 },
 "nbformat": 4,
 "nbformat_minor": 2
}
